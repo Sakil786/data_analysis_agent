{
 "cells": [
  {
   "cell_type": "markdown",
   "id": "44ce8079-c3b4-4537-844e-7e6d6706e923",
   "metadata": {},
   "source": [
    "# Data Analysis Agent "
   ]
  },
  {
   "cell_type": "markdown",
   "id": "0a4c9a24-4d77-43ca-84fd-5155b4e4c777",
   "metadata": {},
   "source": [
    "The agent is comprised of a router using OpenAI function calling, and a set of three tools: a database lookup tool, a data analysis tool, and a code generator to create graphs.\n",
    "The agent can lookup information from a local file, perform analysis on that information, and graph results."
   ]
  },
  {
   "cell_type": "markdown",
   "id": "fb9a4f62-de25-4a66-8cdb-f33d1e92ad92",
   "metadata": {},
   "source": [
    "## Importing necessary libraries "
   ]
  },
  {
   "cell_type": "code",
   "execution_count": 1,
   "id": "e4d6c602-28a5-42f2-9e53-33dac5846cba",
   "metadata": {
    "height": 149
   },
   "outputs": [],
   "source": [
    "from openai import OpenAI\n",
    "import pandas as pd\n",
    "import json\n",
    "import duckdb\n",
    "from pydantic import BaseModel, Field\n",
    "from IPython.display import Markdown\n",
    "\n",
    "from helper import get_openai_api_key"
   ]
  },
  {
   "cell_type": "markdown",
   "id": "30f7f1fb-fea2-475b-9a90-a70eea108153",
   "metadata": {},
   "source": [
    "## Initializing the OpenAI client"
   ]
  },
  {
   "cell_type": "code",
   "execution_count": 2,
   "id": "a5bbb872-2328-4283-b544-9a4c6ba960d3",
   "metadata": {
    "height": 98
   },
   "outputs": [],
   "source": [
    "# initialize the OpenAI client\n",
    "openai_api_key = get_openai_api_key()\n",
    "client = OpenAI(api_key=openai_api_key)\n",
    "\n",
    "MODEL = \"gpt-4o-mini\""
   ]
  },
  {
   "cell_type": "markdown",
   "id": "2503d9fe-e023-4446-b1b2-4633ab0efd8e",
   "metadata": {},
   "source": [
    "## Defining the tools"
   ]
  },
  {
   "cell_type": "markdown",
   "id": "f3f909b1-689e-4d61-8f8d-c6f35520ad66",
   "metadata": {},
   "source": [
    "Let's start by creating the three tools the agent will be able to use."
   ]
  },
  {
   "cell_type": "markdown",
   "id": "cded04f0-ea0d-48b1-83d0-1bfc84ea170e",
   "metadata": {},
   "source": [
    "### Tool 1: Database Lookup"
   ]
  },
  {
   "cell_type": "markdown",
   "id": "1761c2e1-b100-4d3c-b4d7-8c3b4b709c54",
   "metadata": {},
   "source": [
    "This first tool reads from a local csv file that contains the titanic data. "
   ]
  },
  {
   "cell_type": "code",
   "execution_count": 3,
   "id": "ba12f8d1",
   "metadata": {
    "height": 47
   },
   "outputs": [],
   "source": [
    "# define the path to the transactional data\n",
    "TRANSACTION_DATA_FILE_PATH = 'data/Titanic-Dataset.csv'"
   ]
  },
  {
   "cell_type": "code",
   "execution_count": null,
   "id": "a03415fb",
   "metadata": {
    "height": 30
   },
   "outputs": [],
   "source": []
  },
  {
   "cell_type": "markdown",
   "id": "0b7a0d24-185a-47a4-a27b-3959cb1e0ba1",
   "metadata": {},
   "source": [
    "This database lookup tool works using three steps. \n",
    "\n",
    "\n",
    "1. First, it creates the SQL table from a local file, if not already done.\n",
    "2. Second, it translates the original prompt into an sql query (using an LLM call).\n",
    "3. Finally, it runs that query against the database."
   ]
  },
  {
   "cell_type": "code",
   "execution_count": 4,
   "id": "2dd37619-7785-41de-9986-6260d6e17221",
   "metadata": {
    "height": 166
   },
   "outputs": [],
   "source": [
    "# prompt template for step 2 of tool 1\n",
    "SQL_GENERATION_PROMPT = \"\"\"\n",
    "Generate an SQL query based on a prompt. Do not reply with anything besides the SQL query.\n",
    "The prompt is: {prompt}\n",
    "\n",
    "The available columns are: {columns}\n",
    "The table name is: {table_name}\n",
    "\"\"\""
   ]
  },
  {
   "cell_type": "code",
   "execution_count": 5,
   "id": "1b7c2f28-2ec1-43de-b555-d300d916c47d",
   "metadata": {
    "height": 251
   },
   "outputs": [],
   "source": [
    "# code for step 2 of tool 1\n",
    "def generate_sql_query(prompt: str, columns: list, table_name: str) -> str:\n",
    "    \"\"\"Generate an SQL query based on a prompt\"\"\"\n",
    "    formatted_prompt = SQL_GENERATION_PROMPT.format(prompt=prompt, \n",
    "                                                    columns=columns, \n",
    "                                                    table_name=table_name)\n",
    "\n",
    "    response = client.chat.completions.create(\n",
    "        model=MODEL,\n",
    "        messages=[{\"role\": \"user\", \"content\": formatted_prompt}],\n",
    "    )\n",
    "    \n",
    "    return response.choices[0].message.content"
   ]
  },
  {
   "cell_type": "code",
   "execution_count": 21,
   "id": "cdb59fa5-f096-4ba6-9967-4dffea8aa5cb",
   "metadata": {
    "height": 455
   },
   "outputs": [],
   "source": [
    "# code for tool 1\n",
    "def lookup_titanic_data(prompt: str) -> str:\n",
    "    \"\"\"Implementation of sales data lookup from parquet file using SQL\"\"\"\n",
    "    try:\n",
    "\n",
    "        # define the table name\n",
    "        table_name = \"titanic\"\n",
    "        \n",
    "        # step 1: read the parquet file into a DuckDB table\n",
    "        df = pd.read_csv(TRANSACTION_DATA_FILE_PATH)\n",
    "        duckdb.sql(f\"CREATE TABLE IF NOT EXISTS {table_name} AS SELECT * FROM df\")\n",
    "\n",
    "        # step 2: generate the SQL code\n",
    "        sql_query = generate_sql_query(prompt, df.columns, table_name)\n",
    "        # clean the response to make sure it only includes the SQL code\n",
    "        sql_query = sql_query.strip()\n",
    "        sql_query = sql_query.replace(\"```sql\", \"\").replace(\"```\", \"\")\n",
    "        \n",
    "        # step 3: execute the SQL query\n",
    "        result = duckdb.sql(sql_query).df()\n",
    "        \n",
    "        return result.to_string()\n",
    "    except Exception as e:\n",
    "        return f\"Error accessing data: {str(e)}\""
   ]
  },
  {
   "cell_type": "code",
   "execution_count": 22,
   "id": "7391d9ff-55f1-4b1d-bfe5-a4df403bf4b9",
   "metadata": {
    "height": 64
   },
   "outputs": [
    {
     "name": "stdout",
     "output_type": "stream",
     "text": [
      "    column_name\n",
      "0   PassengerId\n",
      "1      Survived\n",
      "2        Pclass\n",
      "3          Name\n",
      "4           Sex\n",
      "5           Age\n",
      "6         SibSp\n",
      "7         Parch\n",
      "8        Ticket\n",
      "9          Fare\n",
      "10        Cabin\n",
      "11     Embarked\n"
     ]
    }
   ],
   "source": [
    "example_data = lookup_sales_data(\"List out the columns name in titanic data\")\n",
    "print(example_data)"
   ]
  },
  {
   "cell_type": "code",
   "execution_count": 23,
   "id": "be9f812e",
   "metadata": {
    "height": 64
   },
   "outputs": [
    {
     "name": "stdout",
     "output_type": "stream",
     "text": [
      "   missing_age  missing_cabin  missing_embarked\n",
      "0        177.0          687.0               2.0\n"
     ]
    }
   ],
   "source": [
    "example_data = lookup_sales_data(\"How many missing values present in titanic data\")\n",
    "print(example_data)"
   ]
  },
  {
   "cell_type": "markdown",
   "id": "481388d3-578d-492b-a53c-46811ac573d7",
   "metadata": {},
   "source": [
    "### Tool 2: Data Analysis"
   ]
  },
  {
   "cell_type": "markdown",
   "id": "153a6d53-fcae-41bd-9d3c-e90960874737",
   "metadata": {},
   "source": [
    "The second tool can analyze the returned data and display conclusions to users.\n"
   ]
  },
  {
   "cell_type": "code",
   "execution_count": 24,
   "id": "a3510f56-30c5-446d-a41f-bec5e4a1de36",
   "metadata": {
    "height": 98
   },
   "outputs": [],
   "source": [
    "# Construct prompt based on analysis type and data subset\n",
    "DATA_ANALYSIS_PROMPT = \"\"\"\n",
    "Analyze the following data: {data}\n",
    "Your job is to answer the following question: {prompt}\n",
    "\"\"\""
   ]
  },
  {
   "cell_type": "code",
   "execution_count": 25,
   "id": "23cb7932-79be-455f-b4fb-83db752d5e43",
   "metadata": {
    "height": 234
   },
   "outputs": [],
   "source": [
    "# code for tool 2\n",
    "def analyze_titanic_data(prompt: str, data: str) -> str:\n",
    "    \"\"\"Implementation of AI-powered Titanic  data analysis\"\"\"\n",
    "    formatted_prompt = DATA_ANALYSIS_PROMPT.format(data=data, prompt=prompt)\n",
    "\n",
    "    response = client.chat.completions.create(\n",
    "        model=MODEL,\n",
    "        messages=[{\"role\": \"user\", \"content\": formatted_prompt}],\n",
    "    )\n",
    "    \n",
    "    analysis = response.choices[0].message.content\n",
    "    return analysis if analysis else \"No analysis could be generated\""
   ]
  },
  {
   "cell_type": "code",
   "execution_count": 26,
   "id": "18042c0f-ba38-4ebd-925c-9bc7ae0f0b21",
   "metadata": {
    "height": 64
   },
   "outputs": [
    {
     "name": "stdout",
     "output_type": "stream",
     "text": [
      "The data provided shows the count of missing values for three different features related to a dataset, likely from the Titanic dataset given the context of \"age,\" \"cabin,\" and \"embarked.\" Here's the analysis of the trends observed:\n",
      "\n",
      "1. **Missing Age**: \n",
      "   - There are 177 missing entries in the \"age\" column. This suggests that a notable portion of the dataset does not have age information for the passengers. Given that age is often a critical variable in analyzing data related to survival rates and demographics, this could limit the effectiveness of any models or analyses focusing on those aspects.\n",
      "\n",
      "2. **Missing Cabin**: \n",
      "   - The count for missing \"cabin\" data is significantly higher at 687. This indicates that a large majority of records lack this information. The cabin information might be relevant for understanding the location on the ship and the associated survival probabilities or comforts. The high number of missing cabins suggests potential issues with the data collection process or the variable's general accessibility during the voyage.\n",
      "\n",
      "3. **Missing Embarked**:\n",
      "   - There are only 2 missing values in the \"embarked\" column. This data point is relatively negligible compared to the other two features. The embarked variable indicates the port from which passengers embarked (C = Cherbourg, Q = Queenstown, S = Southampton). Having only 2 missing entries indicates that this information is largely complete and may not severely impact analyses related to the embarkation process or the geographical aspects of survival.\n",
      "\n",
      "### Summary of Trends:\n",
      "- There is a significant issue with missing data in the \"age\" and \"cabin\" variables, with cabin data being particularly problematic.\n",
      "- In contrast, the missing data for \"embarked\" is minimal and unlikely to hamper analyses significantly.\n",
      "- The high number of missing cabin entries could affect any inferences drawn about the influence of cabin class on survival, should those details be relevant in the study.\n",
      "  \n",
      "### Implications:\n",
      "- Missing data imputation methods may need to be employed, particularly for age and cabin, to facilitate further analysis.\n",
      "- Analysts should consider the potential biases introduced by the missing data, especially in the cabin and age variables, when deriving conclusions or building predictive models.\n"
     ]
    }
   ],
   "source": [
    "print(analyze_sales_data(prompt=\"what trends do you see in this data\", \n",
    "                         data=example_data))"
   ]
  },
  {
   "cell_type": "markdown",
   "id": "0b071118-7538-4e21-a709-f50dcc606260",
   "metadata": {},
   "source": [
    "### Tool 3: Data Visualization"
   ]
  },
  {
   "cell_type": "markdown",
   "id": "1b694537-bafd-4df3-8354-0b6083d3d7ea",
   "metadata": {},
   "source": [
    "The third tool generates python code to create the requested graphs from the returned data of the first tool. It consists of two steps:\n",
    "\n",
    "1. First, it creates the chart configuration: chart type, title, data, lables for x-axis and y-axis (using an LLM call).\n",
    "2. Second, it generates the python code based on the chart configuration of the first step (using an LLM call)."
   ]
  },
  {
   "cell_type": "code",
   "execution_count": 27,
   "id": "5faad9a1-4452-4b89-98e6-c6a8a09f98cf",
   "metadata": {
    "height": 98
   },
   "outputs": [],
   "source": [
    "# prompt template for step 1 of tool 3\n",
    "CHART_CONFIGURATION_PROMPT = \"\"\"\n",
    "Generate a chart configuration based on this data: {data}\n",
    "The goal is to show: {visualization_goal}\n",
    "\"\"\""
   ]
  },
  {
   "cell_type": "code",
   "execution_count": 28,
   "id": "cd462935-d2c5-4de1-a094-b7bdf951cd66",
   "metadata": {
    "height": 132
   },
   "outputs": [],
   "source": [
    "# class defining the response format of step 1 of tool 3\n",
    "class VisualizationConfig(BaseModel):\n",
    "    chart_type: str = Field(..., description=\"Type of chart to generate\")\n",
    "    x_axis: str = Field(..., description=\"Name of the x-axis column\")\n",
    "    y_axis: str = Field(..., description=\"Name of the y-axis column\")\n",
    "    title: str = Field(..., description=\"Title of the chart\")"
   ]
  },
  {
   "cell_type": "code",
   "execution_count": 29,
   "id": "73cee1ce",
   "metadata": {
    "height": 693
   },
   "outputs": [],
   "source": [
    "def extract_chart_config(data: str, visualization_goal: str) -> dict:\n",
    "    \"\"\"Generate bar chart visualization configuration for Titanic dataset\n",
    "    \n",
    "    Args:\n",
    "        data: String containing the data to visualize\n",
    "        visualization_goal: Description of what the visualization should show\n",
    "        \n",
    "    Returns:\n",
    "        Dictionary containing bar chart configuration\n",
    "    \"\"\"\n",
    "    formatted_prompt = CHART_CONFIGURATION_PROMPT.format(data=data,\n",
    "                                                         visualization_goal=visualization_goal)\n",
    "    \n",
    "    response = client.beta.chat.completions.parse(\n",
    "        model=MODEL,\n",
    "        messages=[{\"role\": \"user\", \"content\": formatted_prompt}],\n",
    "        response_format=VisualizationConfig,\n",
    "    )\n",
    "    \n",
    "    try:\n",
    "        # Extract axis and title info from response\n",
    "        content = response.choices[0].message.content\n",
    "        \n",
    "        # Return structured chart config\n",
    "        return {\n",
    "            \"chart_type\": \"bar\",  # Updated to bar chart\n",
    "            \"x_axis\": \"Sex\",  # Gender as x-axis\n",
    "            \"y_axis\": \"Survival Rate\",  # Survival rate as y-axis\n",
    "            \"title\": \"Survival Rates by Gender in Titanic Dataset\",  # Updated title\n",
    "            \"data\": data\n",
    "        }\n",
    "    except Exception:\n",
    "        return {\n",
    "            \"chart_type\": \"bar\",  # Default to bar chart\n",
    "            \"x_axis\": \"Sex\",\n",
    "            \"y_axis\": \"Survival Rate\",\n",
    "            \"title\": \"Survival Rates by Gender in Titanic Dataset\",\n",
    "            \"data\": data\n",
    "        }"
   ]
  },
  {
   "cell_type": "code",
   "execution_count": 30,
   "id": "b0473365-8fb6-4e30-962d-9599cf514323",
   "metadata": {
    "height": 132
   },
   "outputs": [],
   "source": [
    "# prompt template for step 2 of tool 3\n",
    "CREATE_CHART_PROMPT = \"\"\"\n",
    "Write python code to create a chart based on the following configuration.\n",
    "Only return the code, no other text.\n",
    "config: {config}\n",
    "\"\"\""
   ]
  },
  {
   "cell_type": "code",
   "execution_count": 31,
   "id": "0832853e-e7dd-44eb-8fec-8f4524b9baa4",
   "metadata": {
    "height": 268
   },
   "outputs": [],
   "source": [
    "# code for step 2 of tool 3\n",
    "def create_chart(config: dict) -> str:\n",
    "    \"\"\"Create a chart based on the configuration\"\"\"\n",
    "    formatted_prompt = CREATE_CHART_PROMPT.format(config=config)\n",
    "    \n",
    "    response = client.chat.completions.create(\n",
    "        model=MODEL,\n",
    "        messages=[{\"role\": \"user\", \"content\": formatted_prompt}],\n",
    "    )\n",
    "    \n",
    "    code = response.choices[0].message.content\n",
    "    code = code.replace(\"```python\", \"\").replace(\"```\", \"\")\n",
    "    code = code.strip()\n",
    "    \n",
    "    return code"
   ]
  },
  {
   "cell_type": "code",
   "execution_count": 32,
   "id": "0e4e96e8-0ec3-4580-be1e-d239d26c609b",
   "metadata": {
    "height": 115
   },
   "outputs": [],
   "source": [
    "# code for tool 3\n",
    "def generate_visualization(data: str, visualization_goal: str) -> str:\n",
    "    \"\"\"Generate a visualization based on the data and goal\"\"\"\n",
    "    config = extract_chart_config(data, visualization_goal)\n",
    "    code = create_chart(config)\n",
    "    return code"
   ]
  },
  {
   "cell_type": "code",
   "execution_count": 33,
   "id": "001d0743-5b02-4cfc-a6a4-5b0bba80ea30",
   "metadata": {
    "height": 81
   },
   "outputs": [
    {
     "name": "stdout",
     "output_type": "stream",
     "text": [
      "import pandas as pd\n",
      "import matplotlib.pyplot as plt\n",
      "\n",
      "# Sample data based on the provided configuration\n",
      "data = {\n",
      "    'Sex': ['Male', 'Female'],  # Simplified representation\n",
      "    'Survival Rate': [0.2, 0.75]  # Example survival rates\n",
      "}\n",
      "\n",
      "df = pd.DataFrame(data)\n",
      "\n",
      "# Plotting the bar chart\n",
      "plt.figure(figsize=(8, 5))\n",
      "plt.bar(df['Sex'], df['Survival Rate'], color=['blue', 'pink'])\n",
      "plt.title('Survival Rates by Gender in Titanic Dataset')\n",
      "plt.xlabel('Sex')\n",
      "plt.ylabel('Survival Rate')\n",
      "plt.ylim(0, 1)\n",
      "plt.show()\n"
     ]
    }
   ],
   "source": [
    "code = generate_visualization(example_data, \n",
    "                             \"Generate a bar chart representing the distribution of passengers across the three classes (Pclass) in the Titanic dataset.\")\n",
    "print(code)"
   ]
  },
  {
   "cell_type": "code",
   "execution_count": 34,
   "id": "8a56266f-790d-4208-9788-02cab6cabfe9",
   "metadata": {
    "height": 30
   },
   "outputs": [
    {
     "data": {
      "image/png": "[encoded data removed]",
      "text/plain": [
       "<Figure size 800x500 with 1 Axes>"
      ]
     },
     "metadata": {},
     "output_type": "display_data"
    }
   ],
   "source": [
    "exec(code)"
   ]
  },
  {
   "cell_type": "markdown",
   "id": "bdd7653b-a90d-4447-9b6b-646b00e5164b",
   "metadata": {},
   "source": [
    "## Defining the Router"
   ]
  },
  {
   "cell_type": "markdown",
   "id": "b823b2a6-1567-4a03-b829-22f6a3e167ea",
   "metadata": {},
   "source": [
    "Now that all of the tools are defined, you can create the router. The router will take the original user input, and is responsible for calling any tools. After each tool call is completed, the agent will return to router to determine whether another tool should be called."
   ]
  },
  {
   "cell_type": "markdown",
   "id": "d658c1a5-6328-4ca1-bdcf-7c03328aa0c8",
   "metadata": {},
   "source": [
    "### Tool Schema"
   ]
  },
  {
   "cell_type": "markdown",
   "id": "adf85e6a-c708-4ed5-8f43-e996c5f38c7f",
   "metadata": {},
   "source": [
    "Let's define the tools in a way that can be understood by our OpenAI model. OpenAI understands a specific JSON format:"
   ]
  },
  {
   "cell_type": "code",
   "execution_count": 35,
   "id": "d35f5886-32d7-4bc3-968b-4485ce20d7a3",
   "metadata": {
    "height": 948
   },
   "outputs": [],
   "source": [
    "# Define tools/functions that can be called by the model\n",
    "tools = [\n",
    "    {\n",
    "        \"type\": \"function\",\n",
    "        \"function\": {\n",
    "            \"name\": \"lookup_titanic_data\",\n",
    "            \"description\": \"Look up data from Titanic dataset\",\n",
    "            \"parameters\": {\n",
    "                \"type\": \"object\",\n",
    "                \"properties\": {\n",
    "                    \"prompt\": {\"type\": \"string\", \"description\": \"The unchanged prompt that the user provided.\"}\n",
    "                },\n",
    "                \"required\": [\"prompt\"]\n",
    "            }\n",
    "        }\n",
    "    },\n",
    "    {\n",
    "        \"type\": \"function\",\n",
    "        \"function\": {\n",
    "            \"name\": \"analyze_titanic_data\", \n",
    "            \"description\": \"Analyze titaninc data to extract insights\",\n",
    "            \"parameters\": {\n",
    "                \"type\": \"object\",\n",
    "                \"properties\": {\n",
    "                    \"data\": {\"type\": \"string\", \"description\": \"The lookup_sales_data tool's output.\"},\n",
    "                    \"prompt\": {\"type\": \"string\", \"description\": \"The unchanged prompt that the user provided.\"}\n",
    "                },\n",
    "                \"required\": [\"data\", \"prompt\"]\n",
    "            }\n",
    "        }\n",
    "    },\n",
    "    {\n",
    "        \"type\": \"function\",\n",
    "        \"function\": {\n",
    "            \"name\": \"generate_visualization\",\n",
    "            \"description\": \"Generate Python code to create data visualizations\",\n",
    "            \"parameters\": {\n",
    "                \"type\": \"object\", \n",
    "                \"properties\": {\n",
    "                    \"data\": {\"type\": \"string\", \"description\": \"The lookup_sales_data tool's output.\"},\n",
    "                    \"visualization_goal\": {\"type\": \"string\", \"description\": \"The goal of the visualization.\"}\n",
    "                },\n",
    "                \"required\": [\"data\", \"visualization_goal\"]\n",
    "            }\n",
    "        }\n",
    "    }\n",
    "]\n",
    "\n",
    "# Dictionary mapping function names to their implementations\n",
    "tool_implementations = {\n",
    "    \"lookup_titanic_data\": lookup_titanic_data,\n",
    "    \"analyze_titanic_data\": analyze_titanic_data, \n",
    "    \"generate_visualization\": generate_visualization\n",
    "}"
   ]
  },
  {
   "cell_type": "markdown",
   "id": "8291cea7-d45f-429c-845a-53ba8cfc7485",
   "metadata": {},
   "source": [
    "### Router Logic"
   ]
  },
  {
   "cell_type": "markdown",
   "id": "77f87aa9",
   "metadata": {},
   "source": [
    "The following two cells define the function `handle_tool_calls` and the variable `SYSTEM_PROMPT`, which will be used by the function `run_agent` defining the router logic."
   ]
  },
  {
   "cell_type": "code",
   "execution_count": 36,
   "id": "ce938658-35c9-4cda-b0d8-0b89494830c4",
   "metadata": {
    "height": 200
   },
   "outputs": [],
   "source": [
    "# code for executing the tools returned in the model's response\n",
    "def handle_tool_calls(tool_calls, messages):\n",
    "    \n",
    "    for tool_call in tool_calls:   \n",
    "        function = tool_implementations[tool_call.function.name]\n",
    "        function_args = json.loads(tool_call.function.arguments)\n",
    "        result = function(**function_args)\n",
    "        messages.append({\"role\": \"tool\", \"content\": result, \"tool_call_id\": tool_call.id})\n",
    "        \n",
    "    return messages"
   ]
  },
  {
   "cell_type": "code",
   "execution_count": 37,
   "id": "5b24bce5-477f-4e21-af18-4b784282aaa1",
   "metadata": {
    "height": 81
   },
   "outputs": [],
   "source": [
    "SYSTEM_PROMPT = \"\"\"\n",
    "You are a helpful assistant that can answer questions about the Titanic Dataset.\n",
    "\"\"\""
   ]
  },
  {
   "cell_type": "code",
   "execution_count": 38,
   "id": "f0eacdb0-d8c4-4686-9fda-7b7c12ae2c35",
   "metadata": {
    "height": 557
   },
   "outputs": [],
   "source": [
    "def run_agent(messages):\n",
    "    print(\"Running agent with messages:\", messages)\n",
    "\n",
    "    if isinstance(messages, str):\n",
    "        messages = [{\"role\": \"user\", \"content\": messages}]\n",
    "        \n",
    "    # Check and add system prompt if needed\n",
    "    if not any(\n",
    "            isinstance(message, dict) and message.get(\"role\") == \"system\" for message in messages\n",
    "        ):\n",
    "            system_prompt = {\"role\": \"system\", \"content\": SYSTEM_PROMPT}\n",
    "            messages.append(system_prompt)\n",
    "\n",
    "    while True:\n",
    "        print(\"Making router call to OpenAI\")\n",
    "        response = client.chat.completions.create(\n",
    "            model=MODEL,\n",
    "            messages=messages,\n",
    "            tools=tools,\n",
    "        )\n",
    "        messages.append(response.choices[0].message)\n",
    "        tool_calls = response.choices[0].message.tool_calls\n",
    "        print(\"Received response with tool calls:\", bool(tool_calls))\n",
    "\n",
    "        # if the model decides to call function(s), call handle_tool_calls\n",
    "        if tool_calls:\n",
    "            print(\"Processing tool calls\")\n",
    "            messages = handle_tool_calls(tool_calls, messages)\n",
    "        else:\n",
    "            print(\"No tool calls, returning final response\")\n",
    "            return response.choices[0].message.content"
   ]
  },
  {
   "cell_type": "code",
   "execution_count": 39,
   "id": "d5bb8861-7304-4d4a-ac8b-6ca1d7193e59",
   "metadata": {
    "height": 47
   },
   "outputs": [
    {
     "name": "stdout",
     "output_type": "stream",
     "text": [
      "Running agent with messages: Show me  a bar chart representing the distribution of passengers across the three classes (Pclass) in the Titanic dataset and tell me what trends you see.\n",
      "Making router call to OpenAI\n",
      "Received response with tool calls: True\n",
      "Processing tool calls\n",
      "Making router call to OpenAI\n",
      "Received response with tool calls: True\n",
      "Processing tool calls\n",
      "Making router call to OpenAI\n",
      "Received response with tool calls: True\n",
      "Processing tool calls\n",
      "Making router call to OpenAI\n",
      "Received response with tool calls: False\n",
      "No tool calls, returning final response\n"
     ]
    }
   ],
   "source": [
    "result = run_agent('Show me  a bar chart representing the distribution of passengers across the three classes (Pclass) in the Titanic dataset and tell me what trends you see.')"
   ]
  },
  {
   "cell_type": "code",
   "execution_count": 40,
   "id": "b1a59674-5bb3-4983-95ca-809e26743e87",
   "metadata": {
    "height": 64
   },
   "outputs": [
    {
     "name": "stdout",
     "output_type": "stream",
     "text": [
      "The bar chart representing the distribution of passengers across the three classes (Pclass) in the Titanic dataset has been generated. Below are the key insights and trends observed from the data:\n",
      "\n",
      "### Distribution of Passengers:\n",
      "- **Pclass 1**: 216 passengers\n",
      "- **Pclass 2**: 184 passengers\n",
      "- **Pclass 3**: 491 passengers\n",
      "\n",
      "### Observed Trends:\n",
      "\n",
      "1. **Decrease in Passenger Count with Class**: \n",
      "   - There is a noticeable decrease in the number of passengers from first class to second and then to third class. Pclass 1 has the highest number of passengers, followed by Pclass 2, while Pclass 3 has the largest passenger count.\n",
      "\n",
      "2. **Dominance of Third Class**: \n",
      "   - Pclass 3 shows a significantly large passenger count (491), indicating that the majority of travelers on the Titanic were third-class passengers. This aligns with historical trends where lower-income individuals often made up a significant portion of passenger ships.\n",
      "\n",
      "3. **Relatively Similar Counts in Higher Classes**: \n",
      "   - The numbers for Pclass 1 and Pclass 2 are much closer (216 vs. 184), suggesting a somewhat balanced representation in these upper/middle classes compared to the lower class.\n",
      "\n",
      "4. **Socioeconomic Implications**: \n",
      "   - The passenger distribution reflects the socioeconomic status of travelers, indicating fewer first-class travelers due to the higher costs associated with luxury accommodations, while third class accommodated a greater volume of passengers at more affordable rates.\n",
      "\n",
      "5. **Potential for Further Analysis**: \n",
      "   - Understanding this distribution opens up avenues for deeper investigations, such as analyzing survival rates or demographic factors within each class, to explore how class influenced individual experiences during the Titanic disaster.\n",
      "\n",
      "### Conclusion:\n",
      "Overall, the data illustrates the pronounced preference for third-class travel among Titanic passengers, with first and second classes being represented at lower levels. This trend provides insights into the historical and social dynamics of the early 20th century. \n",
      "\n",
      "If you would like to see the chart or delve into more specific analysis, please let me know!\n"
     ]
    }
   ],
   "source": [
    "print(result)\n",
    "# you can also print a formatted version of the result\n",
    "# Markdown(result)"
   ]
  }
 ],
 "metadata": {
  "kernelspec": {
   "display_name": "Python 3 (ipykernel)",
   "language": "python",
   "name": "python3"
  },
  "language_info": {
   "codemirror_mode": {
    "name": "ipython",
    "version": 3
   },
   "file_extension": ".py",
   "mimetype": "text/x-python",
   "name": "python",
   "nbconvert_exporter": "python",
   "pygments_lexer": "ipython3",
   "version": "3.11.9"
  }
 },
 "nbformat": 4,
 "nbformat_minor": 5
}
